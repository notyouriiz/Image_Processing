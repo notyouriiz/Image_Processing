{
 "cells": [
  {
   "cell_type": "markdown",
   "metadata": {},
   "source": [
    "# RGB to Grayscale Conversion\n",
    "\n",
    "An image is made up of pixels. In a **color image (RGB)**, each pixel has three components:\n",
    "- **R** (Red intensity)\n",
    "- **G** (Green intensity)\n",
    "- **B** (Blue intensity)\n",
    "\n",
    "The grayscale image reduces this to a **single intensity value (0–255)** for each pixel, representing brightness only.  \n",
    "\n",
    "---\n",
    "\n",
    "## 🔹 Conversion Formula\n",
    "\n",
    "Human vision is more sensitive to green light, followed by red, then blue.  \n",
    "Therefore, the weighted formula is used:\n",
    "\n",
    "\\[\n",
    "Gray = 0.299 \\times R + 0.587 \\times G + 0.114 \\times B\n",
    "\\]\n",
    "\n",
    "- The green channel has the **highest weight (0.587)** because the human eye is most sensitive to green.  \n",
    "- The red channel contributes **0.299**.  \n",
    "- The blue channel contributes **0.114** (least sensitivity).  \n",
    "\n",
    "---\n",
    "\n",
    "## 🔹 Why Convert to Grayscale?\n",
    "\n",
    "- **Simplifies computation** (1 channel instead of 3).  \n",
    "- Useful for **image processing tasks** like edge detection, thresholding, and morphological operations.  \n",
    "- Preserves **brightness information** while removing color.  \n",
    "\n",
    "---\n",
    "\n",
    "## 🔹 Example Output\n",
    "- **Original RGB**: Full color image.  \n",
    "- **Grayscale (Built-in OpenCV)**: Uses optimized internal conversion.  \n",
    "- **Grayscale (Manual Formula)**: Uses the weighted formula directly.  \n",
    "\n",
    "Both methods\n"
   ]
  },
  {
   "cell_type": "markdown",
   "metadata": {},
   "source": [
    "## Import Libraries and Image"
   ]
  },
  {
   "cell_type": "code",
   "execution_count": null,
   "metadata": {},
   "outputs": [],
   "source": [
    "import cv2\n",
    "import numpy as np\n",
    "import matplotlib.pyplot as plt\n",
    "\n",
    "# Load an RGB image\n",
    "img = cv2.imread(\"Image.jpeg\")   # BGR format by default\n",
    "img_rgb = cv2.cvtColor(img, cv2.COLOR_BGR2RGB)  # Convert to RGB for display"
   ]
  },
  {
   "cell_type": "markdown",
   "metadata": {},
   "source": [
    "## RGB to Grayscale Conversion"
   ]
  },
  {
   "cell_type": "code",
   "execution_count": null,
   "metadata": {},
   "outputs": [],
   "source": [
    "# --- Method 1: Built-in OpenCV function ---\n",
    "gray_builtin = cv2.cvtColor(img, cv2.COLOR_BGR2GRAY)\n",
    "\n",
    "# --- Method 2: Manual formula ---\n",
    "# Gray = 0.299 * R + 0.587 * G + 0.114 * B\n",
    "R, G, B = img_rgb[:,:,0], img_rgb[:,:,1], img_rgb[:,:,2]\n",
    "gray_manual = (0.299 * R + 0.587 * G + 0.114 * B).astype(np.uint8)\n",
    "\n",
    "# --- Visualization ---\n",
    "fig, ax = plt.subplots(1, 3, figsize=(12, 4))\n",
    "\n",
    "ax[0].imshow(img_rgb)\n",
    "ax[0].set_title(\"Original RGB\")\n",
    "ax[0].axis(\"off\")\n",
    "\n",
    "ax[1].imshow(gray_builtin, cmap=\"gray\")\n",
    "ax[1].set_title(\"Grayscale (Built-in)\")\n",
    "ax[1].axis(\"off\")\n",
    "\n",
    "ax[2].imshow(gray_manual, cmap=\"gray\")\n",
    "ax[2].set_title(\"Grayscale (Manual Formula)\")\n",
    "ax[2].axis(\"off\")\n",
    "\n",
    "plt.tight_layout()\n",
    "plt.show()\n"
   ]
  }
 ],
 "metadata": {
  "language_info": {
   "name": "python"
  }
 },
 "nbformat": 4,
 "nbformat_minor": 2
}
