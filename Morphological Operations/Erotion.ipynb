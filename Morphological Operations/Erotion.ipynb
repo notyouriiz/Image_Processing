{
 "cells": [
  {
   "cell_type": "markdown",
   "metadata": {},
   "source": [
    "# Step-by-Step Erosion with 5×5 Kernel\n",
    "\n",
    "This section demonstrates erosion using a **5×5 kernel**.  \n",
    "We will:\n",
    "- Define a 5×5 kernel (square or cross).\n",
    "- Apply step-by-step erosion on a toy example and a real image.\n",
    "- Visualize how erosion shrinks the white regions compared to dilation.\n"
   ]
  },
  {
   "cell_type": "code",
   "execution_count": 4,
   "metadata": {},
   "outputs": [],
   "source": [
    "import cv2\n",
    "import numpy as np\n",
    "import matplotlib.pyplot as plt\n",
    "from IPython.display import display, clear_output\n",
    "import time\n",
    "\n",
    "# Baca gambar biner\n",
    "img = cv2.imread(\"assets/Image.png\", 0)\n",
    "_, binary = cv2.threshold(img, 127, 255, cv2.THRESH_BINARY)"
   ]
  },
  {
   "cell_type": "code",
   "execution_count": 1,
   "metadata": {},
   "outputs": [],
   "source": [
    "# Utility: ensure binary image has values 0 or 255\n",
    "def to_binary_uint8(img, thresh=127):\n",
    "    if img.dtype != np.uint8:\n",
    "        img = img.astype(np.uint8)\n",
    "    if img.ndim == 3:\n",
    "        img_gray = cv2.cvtColor(img, cv2.COLOR_BGR2GRAY)\n",
    "    else:\n",
    "        img_gray = img\n",
    "    _, binary = cv2.threshold(img_gray, thresh, 255, cv2.THRESH_BINARY)\n",
    "    return binary\n",
    "\n",
    "# Utility: overlay kernel region on a grayscale image (returns RGB)\n",
    "def overlay_kernel_on_image(gray, center_y, center_x, kernel):\n",
    "    h, w = gray.shape\n",
    "    kh, kw = kernel.shape\n",
    "    pad_h, pad_w = kh // 2, kw // 2\n",
    "    # Make RGB\n",
    "    rgb = np.stack([gray, gray, gray], axis=-1).astype(np.uint8).copy()\n",
    "    y0 = center_y - pad_h\n",
    "    y1 = center_y + pad_h + 1\n",
    "    x0 = center_x - pad_w\n",
    "    x1 = center_x + pad_w + 1\n",
    "    # Clip to image bounds\n",
    "    ry0, rx0 = max(0, y0), max(0, x0)\n",
    "    ry1, rx1 = min(h, y1), min(w, x1)\n",
    "    ky0, kx0 = ry0 - y0, rx0 - x0  # corresponding kernel start indices\n",
    "    ky1, kx1 = ky0 + (ry1 - ry0), kx0 + (rx1 - rx0)\n",
    "    # Color overlay (red) where kernel==1\n",
    "    mask = (kernel[ky0:ky1, kx0:kx1] == 1)\n",
    "    rgb[ry0:ry1, rx0:rx1][mask] = [255, 0, 0]\n",
    "    return rgb\n"
   ]
  },
  {
   "cell_type": "code",
   "execution_count": 2,
   "metadata": {},
   "outputs": [],
   "source": [
    "def manual_erode_stepwise(img, kernel):\n",
    "    \"\"\"\n",
    "    Simulates erosion step by step.\n",
    "    For each pixel, check if the kernel fits entirely inside white pixels.\n",
    "    \"\"\"\n",
    "    h, w = img.shape\n",
    "    kh, kw = kernel.shape\n",
    "    pad_y, pad_x = kh // 2, kw // 2\n",
    "    padded = np.pad(img, ((pad_y, pad_y), (pad_x, pad_x)), mode='constant', constant_values=0)\n",
    "    output = img.copy()\n",
    "\n",
    "    steps = []\n",
    "    for y in range(h):\n",
    "        for x in range(w):\n",
    "            region = padded[y:y+kh, x:x+kw]\n",
    "            # erosion condition: all kernel '1' must cover white pixels\n",
    "            if np.all(region[kernel==1] == 255):\n",
    "                new_val = 255\n",
    "            else:\n",
    "                new_val = 0\n",
    "\n",
    "            if new_val != output[y,x]:\n",
    "                before = output.copy()\n",
    "                output[y,x] = new_val\n",
    "                steps.append((y, x, before, output.copy()))\n",
    "    return steps\n"
   ]
  },
  {
   "cell_type": "code",
   "execution_count": 3,
   "metadata": {},
   "outputs": [
    {
     "ename": "NameError",
     "evalue": "name 'np' is not defined",
     "output_type": "error",
     "traceback": [
      "\u001b[1;31m---------------------------------------------------------------------------\u001b[0m",
      "\u001b[1;31mNameError\u001b[0m                                 Traceback (most recent call last)",
      "Cell \u001b[1;32mIn[3], line 1\u001b[0m\n\u001b[1;32m----> 1\u001b[0m toy \u001b[38;5;241m=\u001b[39m \u001b[43mnp\u001b[49m\u001b[38;5;241m.\u001b[39marray([\n\u001b[0;32m      2\u001b[0m     [\u001b[38;5;241m0\u001b[39m,\u001b[38;5;241m0\u001b[39m,\u001b[38;5;241m0\u001b[39m,\u001b[38;5;241m0\u001b[39m,\u001b[38;5;241m0\u001b[39m,\u001b[38;5;241m0\u001b[39m,\u001b[38;5;241m0\u001b[39m],\n\u001b[0;32m      3\u001b[0m     [\u001b[38;5;241m0\u001b[39m,\u001b[38;5;241m0\u001b[39m,\u001b[38;5;241m255\u001b[39m,\u001b[38;5;241m0\u001b[39m,\u001b[38;5;241m0\u001b[39m,\u001b[38;5;241m0\u001b[39m,\u001b[38;5;241m0\u001b[39m],\n\u001b[0;32m      4\u001b[0m     [\u001b[38;5;241m0\u001b[39m,\u001b[38;5;241m255\u001b[39m,\u001b[38;5;241m255\u001b[39m,\u001b[38;5;241m255\u001b[39m,\u001b[38;5;241m0\u001b[39m,\u001b[38;5;241m0\u001b[39m,\u001b[38;5;241m0\u001b[39m],\n\u001b[0;32m      5\u001b[0m     [\u001b[38;5;241m0\u001b[39m,\u001b[38;5;241m0\u001b[39m,\u001b[38;5;241m255\u001b[39m,\u001b[38;5;241m0\u001b[39m,\u001b[38;5;241m0\u001b[39m,\u001b[38;5;241m0\u001b[39m,\u001b[38;5;241m0\u001b[39m],\n\u001b[0;32m      6\u001b[0m     [\u001b[38;5;241m0\u001b[39m,\u001b[38;5;241m0\u001b[39m,\u001b[38;5;241m0\u001b[39m,\u001b[38;5;241m0\u001b[39m,\u001b[38;5;241m255\u001b[39m,\u001b[38;5;241m0\u001b[39m,\u001b[38;5;241m0\u001b[39m],\n\u001b[0;32m      7\u001b[0m     [\u001b[38;5;241m0\u001b[39m,\u001b[38;5;241m0\u001b[39m,\u001b[38;5;241m0\u001b[39m,\u001b[38;5;241m0\u001b[39m,\u001b[38;5;241m0\u001b[39m,\u001b[38;5;241m0\u001b[39m,\u001b[38;5;241m0\u001b[39m],\n\u001b[0;32m      8\u001b[0m     [\u001b[38;5;241m0\u001b[39m,\u001b[38;5;241m0\u001b[39m,\u001b[38;5;241m0\u001b[39m,\u001b[38;5;241m0\u001b[39m,\u001b[38;5;241m0\u001b[39m,\u001b[38;5;241m0\u001b[39m,\u001b[38;5;241m0\u001b[39m]\n\u001b[0;32m      9\u001b[0m ], dtype\u001b[38;5;241m=\u001b[39mnp\u001b[38;5;241m.\u001b[39muint8)\n\u001b[0;32m     11\u001b[0m \u001b[38;5;66;03m# cross-shaped kernel\u001b[39;00m\n\u001b[0;32m     12\u001b[0m kernel_cross \u001b[38;5;241m=\u001b[39m np\u001b[38;5;241m.\u001b[39marray([[\u001b[38;5;241m0\u001b[39m,\u001b[38;5;241m1\u001b[39m,\u001b[38;5;241m0\u001b[39m],\n\u001b[0;32m     13\u001b[0m                          [\u001b[38;5;241m1\u001b[39m,\u001b[38;5;241m1\u001b[39m,\u001b[38;5;241m1\u001b[39m],\n\u001b[0;32m     14\u001b[0m                          [\u001b[38;5;241m0\u001b[39m,\u001b[38;5;241m1\u001b[39m,\u001b[38;5;241m0\u001b[39m]], dtype\u001b[38;5;241m=\u001b[39mnp\u001b[38;5;241m.\u001b[39muint8)\n",
      "\u001b[1;31mNameError\u001b[0m: name 'np' is not defined"
     ]
    }
   ],
   "source": [
    "toy = np.array([\n",
    "    [0,0,0,0,0,0,0],\n",
    "    [0,0,255,0,0,0,0],\n",
    "    [0,255,255,255,0,0,0],\n",
    "    [0,0,255,0,0,0,0],\n",
    "    [0,0,0,0,255,0,0],\n",
    "    [0,0,0,0,0,0,0],\n",
    "    [0,0,0,0,0,0,0]\n",
    "], dtype=np.uint8)\n",
    "\n",
    "# cross-shaped kernel\n",
    "kernel_cross = np.array([[0,1,0],\n",
    "                         [1,1,1],\n",
    "                         [0,1,0]], dtype=np.uint8)\n",
    "\n",
    "binary_toy = to_binary_uint8(toy)\n",
    "print(\"Toy image (binary):\")\n",
    "plt.figure(figsize=(3,3))\n",
    "plt.title(\"Toy Binary\")\n",
    "plt.imshow(binary_toy, cmap='gray')\n",
    "plt.axis('off')\n",
    "plt.show()\n",
    "\n",
    "# Visualize every change step-by-step (toy is small so we will see many)\n",
    "frames = list(manual_erode_stepwise(binary_toy, kernel_cross))\n",
    "print(f\"Total change steps in toy example: {len(frames)}\")\n",
    "\n",
    "for i, (cy, cx, before, after) in enumerate(frames):\n",
    "    fig, axes = plt.subplots(1, 3, figsize=(9,3))\n",
    "    # Original with kernel overlay\n",
    "    axes[0].imshow(overlay_kernel_on_image(binary_toy, cy, cx, kernel_cross))\n",
    "    axes[0].set_title(f\"Original with kernel center ({cy},{cx})\")\n",
    "    axes[0].axis('off')\n",
    "    # Output before applying at this center\n",
    "    axes[1].imshow(before, cmap='gray')\n",
    "    axes[1].set_title(\"Output before\")\n",
    "    axes[1].axis('off')\n",
    "    # Output after applying at this center\n",
    "    axes[2].imshow(after, cmap='gray')\n",
    "    axes[2].set_title(\"Output after\")\n",
    "    axes[2].axis('off')\n",
    "    plt.suptitle(f\"Step {i+1}/{len(frames)} — Center: ({cy},{cx})\", fontsize=12)\n",
    "    plt.show()\n",
    "    time.sleep(0.6)  # small pause so you can see the frame; adjust or remove as desired\n"
   ]
  },
  {
   "cell_type": "code",
   "execution_count": null,
   "metadata": {},
   "outputs": [
    {
     "name": "stdout",
     "output_type": "stream",
     "text": [
      "Total added pixels (cross kernel): 1417\n"
     ]
    },
    {
     "data": {
      "image/png": "[encoded data removed]",
      "text/plain": [
       "<Figure size 1000x500 with 2 Axes>"
      ]
     },
     "metadata": {},
     "output_type": "display_data"
    }
   ],
   "source": [
    "binary_img = to_binary_uint8(img)  # 0/255\n",
    "\n",
    "# Choose kernel (try cross vs square)\n",
    "kernel_cross = np.array([[0,1,0],\n",
    "                         [1,1,1],\n",
    "                         [0,1,0]], dtype=np.uint8)\n",
    "kernel_square = np.ones((3,3), dtype=np.uint8)\n",
    "\n",
    "# compute final dilation quickly using OpenCV for reference\n",
    "dil_cross = cv2.dilate(binary_img, kernel_cross, iterations=1)\n",
    "\n",
    "# find positions where dilation added pixels (new white pixels)\n",
    "added_positions = np.argwhere((dil_cross == 255) & (binary_img == 0))\n",
    "print(f\"Total added pixels (cross kernel): {len(added_positions)}\")\n",
    "\n",
    "# limit number of frames to visualize (avoid thousands)\n",
    "MAX_FRAMES = 12\n",
    "if len(added_positions) > MAX_FRAMES:\n",
    "    # sample positions uniformly so we still see representative steps\n",
    "    idxs = np.linspace(0, len(added_positions)-1, MAX_FRAMES, dtype=int)\n",
    "    sample_positions = added_positions[idxs]\n",
    "else:\n",
    "    sample_positions = added_positions\n",
    "\n",
    "# We'll create a manual step iterator but only show frames for positions in sample_positions\n",
    "sample_set = set((int(y), int(x)) for y,x in sample_positions)\n",
    "\n",
    "# Use the manual algorithm but only display frames for chosen centers\n",
    "gen = manual_erode_stepwise(binary_img, kernel_cross)\n",
    "frames_shown = 0\n",
    "for cy, cx, before, after in gen:\n",
    "    if (cy, cx) in sample_set:\n",
    "        fig, axes = plt.subplots(1, 3, figsize=(12,4))\n",
    "        axes[0].imshow(overlay_kernel_on_image(binary_img, cy, cx, kernel_cross))\n",
    "        axes[0].set_title(f\"Original with kernel center ({cy},{cx})\")\n",
    "        axes[0].axis('off')\n",
    "        axes[1].imshow(before, cmap='gray')\n",
    "        axes[1].set_title(\"Output before\")\n",
    "        axes[1].axis('off')\n",
    "        axes[2].imshow(after, cmap='gray')\n",
    "        axes[2].set_title(\"Output after\")\n",
    "        axes[2].axis('off')\n",
    "        plt.suptitle(f\"Sample Step {frames_shown+1} — Center: ({cy},{cx})\", fontsize=12)\n",
    "        plt.show()\n",
    "        frames_shown += 1\n",
    "        time.sleep(0.45)\n",
    "        if frames_shown >= len(sample_positions):\n",
    "            break\n",
    "\n",
    "# Show final result vs original\n",
    "fig, axes = plt.subplots(1, 2, figsize=(10,5))\n",
    "axes[0].imshow(binary_img, cmap='gray')\n",
    "axes[0].set_title(\"Original Binary\")\n",
    "axes[0].axis('off')\n",
    "axes[1].imshow(dil_cross, cmap='gray')\n",
    "axes[1].set_title(\"Final Erotion (OpenCV)\")\n",
    "axes[1].axis('off')\n",
    "plt.show()\n"
   ]
  },
  {
   "cell_type": "markdown",
   "metadata": {},
   "source": [
    "🔎 Explanation\n",
    "<br>Erosion with a 5×5 square kernel removes pixels at object boundaries unless the entire 5×5 neighborhood is white.\n",
    "\n",
    "Compared to dilation:\n",
    "- Dilation makes objects thicker.\n",
    "- Erosion makes objects thinner.\n",
    "- Larger kernels (5×5) cause more aggressive shrinking than smaller ones (3×3)."
   ]
  }
 ],
 "metadata": {
  "kernelspec": {
   "display_name": "Python 3",
   "language": "python",
   "name": "python3"
  },
  "language_info": {
   "codemirror_mode": {
    "name": "ipython",
    "version": 3
   },
   "file_extension": ".py",
   "mimetype": "text/x-python",
   "name": "python",
   "nbconvert_exporter": "python",
   "pygments_lexer": "ipython3",
   "version": "3.12.0"
  }
 },
 "nbformat": 4,
 "nbformat_minor": 2
}
